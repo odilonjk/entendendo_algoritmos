{
 "cells": [
  {
   "cell_type": "code",
   "execution_count": 37,
   "metadata": {},
   "outputs": [],
   "source": [
    "import math\n",
    "from sympy import *\n",
    "\n",
    "init_printing(use_latex=True)"
   ]
  },
  {
   "attachments": {},
   "cell_type": "markdown",
   "metadata": {},
   "source": [
    "## Exercícios\n",
    "\n",
    "### Página 28\n",
    "\n",
    "#### Exercício 1.1\n",
    "\n",
    "$ log_2(128) $"
   ]
  },
  {
   "cell_type": "code",
   "execution_count": 38,
   "metadata": {},
   "outputs": [
    {
     "name": "stdout",
     "output_type": "stream",
     "text": [
      "Resposta: 7.0\n"
     ]
    }
   ],
   "source": [
    "print('Resposta: {}'.format(math.log2(128)))"
   ]
  },
  {
   "attachments": {},
   "cell_type": "markdown",
   "metadata": {},
   "source": [
    "#### Exercício  1.2\n",
    "\n",
    "$ log_2(256) $"
   ]
  },
  {
   "cell_type": "code",
   "execution_count": 39,
   "metadata": {},
   "outputs": [
    {
     "name": "stdout",
     "output_type": "stream",
     "text": [
      "Resposta: 8.0\n"
     ]
    }
   ],
   "source": [
    "print('Resposta: {}'.format(math.log2(256)))"
   ]
  },
  {
   "attachments": {},
   "cell_type": "markdown",
   "metadata": {},
   "source": [
    "### Página 36\n",
    "\n",
    "#### Exercício 1.3\n",
    "\n",
    "Resposta: $ O(log\\;n) $\n",
    "\n",
    "#### Exercício 1.4\n",
    "\n",
    "Resposta: $ O(n) $\n",
    "\n",
    "#### Exercício 1.5\n",
    "\n",
    "Resposta: $ O(n) $\n",
    "\n",
    "#### Exercício 1.6\n",
    "\n",
    "Resposta: $ O(n) $"
   ]
  }
 ],
 "metadata": {
  "kernelspec": {
   "display_name": "entendendo_algoritmos",
   "language": "python",
   "name": "python3"
  },
  "language_info": {
   "codemirror_mode": {
    "name": "ipython",
    "version": 3
   },
   "file_extension": ".py",
   "mimetype": "text/x-python",
   "name": "python",
   "nbconvert_exporter": "python",
   "pygments_lexer": "ipython3",
   "version": "3.11.3"
  },
  "orig_nbformat": 4
 },
 "nbformat": 4,
 "nbformat_minor": 2
}
