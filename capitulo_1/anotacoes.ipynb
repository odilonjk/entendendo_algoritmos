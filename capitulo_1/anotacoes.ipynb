{
 "cells": [
  {
   "cell_type": "code",
   "execution_count": 1,
   "metadata": {},
   "outputs": [],
   "source": [
    "import math\n",
    "from sympy import *\n",
    "\n",
    "init_printing(use_latex=True)"
   ]
  },
  {
   "attachments": {},
   "cell_type": "markdown",
   "metadata": {},
   "source": [
    "# Anotações"
   ]
  },
  {
   "attachments": {},
   "cell_type": "markdown",
   "metadata": {},
   "source": [
    "#### Big O\n",
    "\n",
    "É a forma como comparamos o número de operações de um algorítmo.\n",
    "\n",
    "Uma busca sequencia será $O(n)$, enquanto que uma busca binária será $O(\\log{n})$."
   ]
  },
  {
   "attachments": {},
   "cell_type": "markdown",
   "metadata": {},
   "source": [
    "#### Calcular log base 2 em calculadora sem log base 2.\n",
    "\n",
    "$$ \\log_2(n) = \\cfrac{log(n)}{log(2)} $$\n",
    "\n",
    "Basta utilizar a base 10 (padrão) de n e dividir por log(2).\n",
    "\n",
    "**Exemplo:**\n",
    "\n",
    "$ \\log_2{(1000000000)} = \\cfrac{log(1000000000)}{log(2)} $"
   ]
  },
  {
   "cell_type": "code",
   "execution_count": 2,
   "metadata": {},
   "outputs": [
    {
     "name": "stdout",
     "output_type": "stream",
     "text": [
      "Resultado: log2(1000000000) = log(1000000000) / log(2) = 29.897352853986263\n"
     ]
    }
   ],
   "source": [
    "print('Resultado: log2(1000000000) = log(1000000000) / log(2) = {}'.format(math.log(1000000000) / math.log(2)))"
   ]
  }
 ],
 "metadata": {
  "kernelspec": {
   "display_name": "entendendo_algoritmos",
   "language": "python",
   "name": "python3"
  },
  "language_info": {
   "codemirror_mode": {
    "name": "ipython",
    "version": 3
   },
   "file_extension": ".py",
   "mimetype": "text/x-python",
   "name": "python",
   "nbconvert_exporter": "python",
   "pygments_lexer": "ipython3",
   "version": "3.11.3"
  },
  "orig_nbformat": 4
 },
 "nbformat": 4,
 "nbformat_minor": 2
}
